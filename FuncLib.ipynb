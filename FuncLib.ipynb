{
 "cells": [
  {
   "cell_type": "markdown",
   "id": "d8ce5387",
   "metadata": {},
   "source": [
    "# Functions Library"
   ]
  },
  {
   "cell_type": "markdown",
   "id": "5533fc08",
   "metadata": {},
   "source": [
    "## Data Science Learning"
   ]
  },
  {
   "cell_type": "markdown",
   "id": "761a7508",
   "metadata": {},
   "source": [
    "### Filter a dataframe by columnname And Returns filtred dataframe"
   ]
  },
  {
   "cell_type": "code",
   "execution_count": 1,
   "id": "260b402c",
   "metadata": {},
   "outputs": [],
   "source": [
    "# Filter a dataframe by columnname And Returns filtred dataframe\n",
    "def filter_dataframe(df, column_filter, columnname, columns):\n",
    "    '''\n",
    "    INPUT:\n",
    "    df - Data Frame to be filtered\n",
    "    column_filter -  the column to be used to filter the dataframe\n",
    "    columnname - the column value based on which dataframe will be filtered \n",
    "    columns - list of columns required as part of new generated dataframe after filtering\n",
    "    \n",
    "    OUTPUT:\n",
    "    df_copy - filtered dataframe based containing 'columns'\n",
    "    \n",
    "    Description:\n",
    "    Filter the dataframe (df) by Column Name (column_filter eg. Country) \n",
    "    and Column Value (columnname eg. India - Country column value) and Select the required Columns (columns)\n",
    "    \n",
    "    '''    \n",
    "    df_copy = df\n",
    "    \n",
    "    for column in columns: \n",
    "        df_copy = df_copy[df_copy[column_filter] == columnname].dropna(subset=[column])\n",
    "        \n",
    "    return df_copy"
   ]
  },
  {
   "cell_type": "markdown",
   "id": "970c06e9",
   "metadata": {},
   "source": [
    "### Split column by some character value And Returns a Splitted Series"
   ]
  },
  {
   "cell_type": "code",
   "execution_count": 2,
   "id": "d0d2f683",
   "metadata": {},
   "outputs": [],
   "source": [
    "# Split column by some character value And Returns a Splitted Series\n",
    "def split_column(df, column, splitChar):\n",
    "    '''\n",
    "    INPUT:\n",
    "    df - Data Frame to be splitted\n",
    "    column -  the column to be considered for splitting\n",
    "    splitChar - character based on which values are to be splitted \n",
    "    \n",
    "    OUTPUT:\n",
    "    column_series - series into which dataframe is splitted\n",
    "    \n",
    "    Description:\n",
    "    Splitting the Data Frame by column into a Series\n",
    "    \n",
    "    '''\n",
    "\n",
    "    df_copy = df\n",
    "    column_series = df_copy[column].apply(lambda x: x.split(splitChar))\n",
    "    \n",
    "    return column_series"
   ]
  },
  {
   "cell_type": "markdown",
   "id": "4d61b87a",
   "metadata": {},
   "source": [
    "### Flat a Nested List And Returns a Flat List"
   ]
  },
  {
   "cell_type": "code",
   "execution_count": 3,
   "id": "39cec679",
   "metadata": {},
   "outputs": [],
   "source": [
    "# Flat a Nested List And Returns a Flat List\n",
    "def disarray(array_list):\n",
    "    '''\n",
    "    INPUT:\n",
    "    array_list - Data Frame to be splitted\n",
    "    \n",
    "    OUTPUT:\n",
    "    objects - flat list\n",
    "    \n",
    "    Description:\n",
    "    Flatting the nested list and returns a flat list (objects)\n",
    "    \n",
    "    '''\n",
    "\n",
    "    objects = []\n",
    "    \n",
    "    for row in array_list:\n",
    "        for obj in row:\n",
    "            objects.append(obj.strip())\n",
    "            \n",
    "    return objects"
   ]
  },
  {
   "cell_type": "markdown",
   "id": "8c6d13a0",
   "metadata": {},
   "source": [
    "### Group by count to a list And Returns a Result Dictionary"
   ]
  },
  {
   "cell_type": "code",
   "execution_count": 4,
   "id": "1065806f",
   "metadata": {},
   "outputs": [],
   "source": [
    "# Group by count to a list And Returns a Result Dictionary\n",
    "def group_list_PLang(data_list, year):\n",
    "    '''\n",
    "    INPUT:\n",
    "    data_list - list to be grouped\n",
    "    year - year value for grouping the list\n",
    "    \n",
    "    OUTPUT:\n",
    "    grouped_dict - grouped dictionary\n",
    "    \n",
    "    Description:\n",
    "    Group by count to a list And Returns a Result Dictionary with 'Programming Language' as Key\n",
    "    \n",
    "    '''\n",
    "    grouped_list = dict(Counter(data_list))\n",
    "    grouped_dict = [{'Programming Language':key, 'Count': value, 'Year': year} for key, value in grouped_list.items()]\n",
    "    \n",
    "    return grouped_dict"
   ]
  },
  {
   "cell_type": "code",
   "execution_count": 5,
   "id": "c0c71c2c",
   "metadata": {},
   "outputs": [],
   "source": [
    "# Group by count to a list And Returns a Result Dictionary\n",
    "def group_list_Plat(data_list, year):\n",
    "    '''\n",
    "    INPUT:\n",
    "    data_list - list to be grouped\n",
    "    year - year value for grouping the list\n",
    "    \n",
    "    OUTPUT:\n",
    "    grouped_dict - grouped dictionary\n",
    "    \n",
    "    Description:\n",
    "    Group by count to a list And Returns a Result Dictionary with 'Cloud Platforms' as Key\n",
    "    \n",
    "    '''\n",
    "\n",
    "    grouped_list = dict(Counter(data_list))\n",
    "    grouped_dict = [{'Cloud Platforms':key, 'Count': value, 'Year': year} for key, value in grouped_list.items()]\n",
    "    \n",
    "    return grouped_dict"
   ]
  },
  {
   "cell_type": "code",
   "execution_count": 6,
   "id": "472c25fb",
   "metadata": {},
   "outputs": [],
   "source": [
    "# Group by count to a list And Returns a Result Dictionary\n",
    "def group_list_MiscTech(data_list, region):\n",
    "    '''\n",
    "    INPUT:\n",
    "    data_list - list to be grouped\n",
    "    region - value for grouping the list\n",
    "    \n",
    "    OUTPUT:\n",
    "    grouped_dict - grouped dictionary\n",
    "    \n",
    "    Description:\n",
    "    Group by count to a list And Returns a Result Dictionary with 'MiscTechWantToWorkWith' as Key\n",
    "    \n",
    "    '''\n",
    "    grouped_list = dict(Counter(data_list))\n",
    "    grouped_dict = [{'MiscTechWantToWorkWith':key, 'Count': value, 'Region': region} for key, value in grouped_list.items()]\n",
    "    \n",
    "    return grouped_dict"
   ]
  },
  {
   "cell_type": "code",
   "execution_count": 7,
   "id": "eadd69ee",
   "metadata": {},
   "outputs": [],
   "source": [
    "# Group by count to a list And Returns a Result Dictionary\n",
    "def group_list_NEWStuck(data_list, year):\n",
    "    '''\n",
    "    INPUT:\n",
    "    data_list - list to be grouped\n",
    "    year - year value for grouping the list\n",
    "    \n",
    "    OUTPUT:\n",
    "    grouped_dict - grouped dictionary\n",
    "    \n",
    "    Description:\n",
    "    Group by count to a list And Returns a Result Dictionary with 'Stucked Issues Dealing' as Key\n",
    "    \n",
    "    '''\n",
    "\n",
    "    grouped_list = dict(Counter(data_list))\n",
    "    grouped_dict = [{'Stucked Issues Dealing':key, 'Count': value, 'Year': year} for key, value in grouped_list.items()]\n",
    "    \n",
    "    return grouped_dict"
   ]
  },
  {
   "cell_type": "markdown",
   "id": "8a059562",
   "metadata": {},
   "source": [
    "### Create two dataframes, append them And Returns an Appended DataFrame"
   ]
  },
  {
   "cell_type": "code",
   "execution_count": 8,
   "id": "3d3f4f8a",
   "metadata": {},
   "outputs": [],
   "source": [
    "# Create two dataframes, append them And Returns an Appended DataFrame\n",
    "def create_dataframe(data_dicts):\n",
    "    '''\n",
    "    INPUT:\n",
    "    data_dicts - List of dataframes to be concatenated into single dataframe\n",
    "    \n",
    "    OUTPUT:\n",
    "    df - newly generated dataframe as a result of appending the two dataframes\n",
    "    \n",
    "    Description:\n",
    "    Create two dataframes from a list, append them And Returns an Appended DataFrame\n",
    "    \n",
    "    '''\n",
    "\n",
    "    df1 = pd.DataFrame(data_dicts[0])\n",
    "    df2 = pd.DataFrame(data_dicts[1])\n",
    "\n",
    "    df = pd.concat([df1,df2])\n",
    "    \n",
    "    return df"
   ]
  },
  {
   "cell_type": "markdown",
   "id": "226e122d",
   "metadata": {},
   "source": [
    "### Returns Scaled data"
   ]
  },
  {
   "cell_type": "code",
   "execution_count": 9,
   "id": "34b4b50e",
   "metadata": {},
   "outputs": [],
   "source": [
    "# Returns Scaled data\n",
    "def percentage(df, column):\n",
    "    '''\n",
    "    INPUT:\n",
    "    df - dataframe\n",
    "    column - column name in the context\n",
    "    \n",
    "    OUTPUT:\n",
    "    joined_series - series with scaled data\n",
    "    \n",
    "    Description:\n",
    "    Returns joined_series containing Scaled data with calculated percentage value for every unique value in given 'column'\n",
    "    \n",
    "    '''\n",
    "\n",
    "    df_copy = df\n",
    "    series = []\n",
    "    \n",
    "    for val in df_copy[column].unique():\n",
    "        series.append((df_copy[df_copy[column] == val]['Count'] / \n",
    "                      df_copy[df_copy[column] == val]['Count'].sum())*100)\n",
    "        \n",
    "    joined_series = pd.Series([],dtype=pd.StringDtype())\n",
    "    for i_series in series:\n",
    "        joined_series = pd.concat([joined_series,i_series])\n",
    "        \n",
    "    return joined_series"
   ]
  },
  {
   "cell_type": "markdown",
   "id": "45e7fbba",
   "metadata": {},
   "source": [
    "### Define Signle Color for WordCloud - It will generate WordCloud in single color"
   ]
  },
  {
   "cell_type": "code",
   "execution_count": 10,
   "id": "afe48a75",
   "metadata": {},
   "outputs": [],
   "source": [
    "# Define Signle Color for WordCloud - It will generate WordCloud in single color\n",
    "def one_color_func(word=None, font_size=None, \n",
    "                   position=None, orientation=None, \n",
    "                   font_path=None, random_state=None):\n",
    "        '''\n",
    "            Define Signle Color for WordCloud\n",
    "            It will generate WordCloud in single color\n",
    "        '''\n",
    "\n",
    "    h = 40 # 0 - 360\n",
    "    s = 100 # 0 - 100\n",
    "    l = random_state.randint(30, 70) # 0 - 100\n",
    "    return \"hsl({}, {}%, {}%)\".format(h, s, l)"
   ]
  },
  {
   "cell_type": "markdown",
   "id": "ee6441d2",
   "metadata": {},
   "source": [
    "### Define multiple Colors for WordCloud - It will generate Multi-Color WordCloud"
   ]
  },
  {
   "cell_type": "code",
   "execution_count": 11,
   "id": "cba7cbc8",
   "metadata": {},
   "outputs": [],
   "source": [
    "# Define multiple Colors for WordCloud - It will generate Multi-Color WordCloud\n",
    "def multi_color_func(word=None, font_size=None,\n",
    "                     position=None, orientation=None,\n",
    "                     font_path=None, random_state=None):\n",
    "        '''\n",
    "            Define multiple Colors for WordCloud\n",
    "            It will generate Multi-Color WordCloud\n",
    "        '''\n",
    "    \n",
    "    colors = [[4, 77, 82],\n",
    "              [25, 74, 85],\n",
    "              [82, 43, 84],\n",
    "              [158, 48, 79]]\n",
    "    rand = random_state.randint(0, len(colors) - 1)\n",
    "    return \"hsl({}, {}%, {}%)\".format(colors[rand][0], colors[rand][1], colors[rand][2])"
   ]
  },
  {
   "cell_type": "code",
   "execution_count": null,
   "id": "a17cc03e",
   "metadata": {},
   "outputs": [],
   "source": []
  },
  {
   "cell_type": "code",
   "execution_count": null,
   "id": "81484a5b",
   "metadata": {},
   "outputs": [],
   "source": []
  },
  {
   "cell_type": "code",
   "execution_count": null,
   "id": "cec17145",
   "metadata": {},
   "outputs": [],
   "source": []
  }
 ],
 "metadata": {
  "kernelspec": {
   "display_name": "Python 3 (ipykernel)",
   "language": "python",
   "name": "python3"
  },
  "language_info": {
   "codemirror_mode": {
    "name": "ipython",
    "version": 3
   },
   "file_extension": ".py",
   "mimetype": "text/x-python",
   "name": "python",
   "nbconvert_exporter": "python",
   "pygments_lexer": "ipython3",
   "version": "3.10.4"
  }
 },
 "nbformat": 4,
 "nbformat_minor": 5
}
